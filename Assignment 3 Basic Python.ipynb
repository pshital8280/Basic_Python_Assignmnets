{
 "cells": [
  {
   "cell_type": "markdown",
   "metadata": {},
   "source": [
    "### Why are functions advantageous to have in your programs?"
   ]
  },
  {
   "cell_type": "markdown",
   "metadata": {},
   "source": [
    "Functions reduce the need for duplicate code. This makes programs shorter, easier to read, and easier to update."
   ]
  },
  {
   "cell_type": "markdown",
   "metadata": {},
   "source": [
    "### When does the code in a function run: when it's specified or when it's called"
   ]
  },
  {
   "cell_type": "markdown",
   "metadata": {},
   "source": [
    "When a function is \"called\" the program \"leaves\" the current section of code \n",
    "and begins to execute the first line inside the function."
   ]
  },
  {
   "cell_type": "markdown",
   "metadata": {},
   "source": [
    "### What statement creates a function"
   ]
  },
  {
   "cell_type": "markdown",
   "metadata": {},
   "source": [
    " A statement that creates a new function, specifying its name, parameters, and the statements it executes."
   ]
  },
  {
   "cell_type": "markdown",
   "metadata": {},
   "source": [
    "### What is the difference between a function and a function call"
   ]
  },
  {
   "cell_type": "markdown",
   "metadata": {},
   "source": [
    " A function is procedure to achieve a particular result while function call is using this function to achive that task."
   ]
  },
  {
   "cell_type": "markdown",
   "metadata": {},
   "source": [
    "### How many global scopes are there in a Python program? How many local scopes"
   ]
  },
  {
   "cell_type": "markdown",
   "metadata": {},
   "source": [
    "Python searches three scopes—the local (L), then the global (G), and then the built-in (B)—and\n",
    "stops at the first place the name is found."
   ]
  },
  {
   "cell_type": "markdown",
   "metadata": {},
   "source": [
    "### What happens to variables in a local scope when the function call returns"
   ]
  },
  {
   "cell_type": "markdown",
   "metadata": {},
   "source": [
    "When the execution of the function terminates (returns), the local variables are destroyed"
   ]
  },
  {
   "cell_type": "markdown",
   "metadata": {},
   "source": [
    "### What is the concept of a return value? Is it possible to have a return value in an expression"
   ]
  },
  {
   "cell_type": "markdown",
   "metadata": {},
   "source": [
    "Functions that Return Values. \n",
    "A return is a value that a function returns to the calling script or function when it completes its task. \n",
    "A return value can be any one of the four variable types: handle, integer, object, or string. \n",
    "The type of value your function returns depends largely on the task it performs"
   ]
  },
  {
   "cell_type": "markdown",
   "metadata": {},
   "source": [
    "### If a function does not have a return statement, what is the return value of a call to that function"
   ]
  },
  {
   "cell_type": "markdown",
   "metadata": {},
   "source": [
    " A function can exist without a return statement and returns None if the function doesn't have a return statement."
   ]
  },
  {
   "cell_type": "markdown",
   "metadata": {},
   "source": [
    "### How do you make a function variable refer to the global variable"
   ]
  },
  {
   "cell_type": "markdown",
   "metadata": {},
   "source": [
    "If you want to refer to a global variable in a function, you can use the global keyword to declare which variables are global."
   ]
  },
  {
   "cell_type": "markdown",
   "metadata": {},
   "source": [
    "### What is the data type of None"
   ]
  },
  {
   "cell_type": "markdown",
   "metadata": {},
   "source": [
    "None is a data type of its own (NoneType) and only None can be None."
   ]
  },
  {
   "cell_type": "markdown",
   "metadata": {},
   "source": [
    "### If you had a bacon() feature in a spam module, what would you call it after importing spam"
   ]
  },
  {
   "cell_type": "markdown",
   "metadata": {},
   "source": [
    "function can be called with spam. bacon()."
   ]
  },
  {
   "cell_type": "markdown",
   "metadata": {},
   "source": [
    "### What can you do to save a programme from crashing if it encounters an error"
   ]
  },
  {
   "cell_type": "markdown",
   "metadata": {},
   "source": [
    "Exceptions are thrown and caught so the code can recover and handle the situation and not enter an error state. Exceptions can be thrown and caught so the application can recover or continue gracefully."
   ]
  },
  {
   "cell_type": "markdown",
   "metadata": {},
   "source": [
    "### What is the purpose of the try clause? What is the purpose of the except clause"
   ]
  },
  {
   "cell_type": "markdown",
   "metadata": {},
   "source": [
    "The try block lets you test a block of code for errors. The except block lets you handle the error. The finally block lets you execute code, regardless of the result of the try- and except blocks."
   ]
  },
  {
   "cell_type": "code",
   "execution_count": null,
   "metadata": {},
   "outputs": [],
   "source": []
  }
 ],
 "metadata": {
  "kernelspec": {
   "display_name": "Python 3",
   "language": "python",
   "name": "python3"
  },
  "language_info": {
   "codemirror_mode": {
    "name": "ipython",
    "version": 3
   },
   "file_extension": ".py",
   "mimetype": "text/x-python",
   "name": "python",
   "nbconvert_exporter": "python",
   "pygments_lexer": "ipython3",
   "version": "3.8.3"
  }
 },
 "nbformat": 4,
 "nbformat_minor": 4
}
